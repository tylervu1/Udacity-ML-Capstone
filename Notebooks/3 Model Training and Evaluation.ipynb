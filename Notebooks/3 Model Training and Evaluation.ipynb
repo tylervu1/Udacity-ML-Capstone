{
 "cells": [
  {
   "cell_type": "markdown",
   "metadata": {},
   "source": [
    "# Classifying Urban sounds using Deep Learning\n",
    "\n",
    "## 3 Model Training and Evaluation "
   ]
  },
  {
   "cell_type": "markdown",
   "metadata": {},
   "source": [
    "### Load Preprocessed data "
   ]
  },
  {
   "cell_type": "code",
   "execution_count": 1,
   "metadata": {},
   "outputs": [],
   "source": [
    "# retrieve the preprocessed data from previous notebook\n",
    "\n",
    "%store -r x_train \n",
    "%store -r x_test \n",
    "%store -r y_train \n",
    "%store -r y_test \n",
    "%store -r yy \n",
    "%store -r le"
   ]
  },
  {
   "cell_type": "markdown",
   "metadata": {},
   "source": [
    "### Initial model architecture - MLP\n",
    "\n",
    "We will start with constructing a Multilayer Perceptron (MLP) Neural Network using Keras and a Tensorflow backend. \n",
    "\n",
    "Starting with a `sequential` model so we can build the model layer by layer. \n",
    "\n",
    "We will begin with a simple model architecture, consisting of three layers, an input layer, a hidden layer and an output layer. All three layers will be of the `dense` layer type which is a standard layer type that is used in many cases for neural networks. \n",
    "\n",
    "The first layer will receive the input shape. As each sample contains 40 MFCCs (or columns) we have a shape of (1x40) this means we will start with an input shape of 40. \n",
    "\n",
    "The first two layers will have 256 nodes. The activation function we will be using for our first 2 layers is the `ReLU`, or `Rectified Linear Activation`. This activation function has been proven to work well in neural networks.\n",
    "\n",
    "We will also apply a `Dropout` value of 50% on our first two layers. This will randomly exclude nodes from each update cycle which in turn results in a network that is capable of better generalisation and is less likely to overfit the training data.\n",
    "\n",
    "Our output layer will have 10 nodes (num_labels) which matches the number of possible classifications. The activation is for our output layer is `softmax`. Softmax makes the output sum up to 1 so the output can be interpreted as probabilities. The model will then make its prediction based on which option has the highest probability."
   ]
  },
  {
   "cell_type": "code",
   "execution_count": 4,
   "metadata": {},
   "outputs": [],
   "source": [
    "import numpy as np\n",
    "from keras.models import Sequential\n",
    "from keras.layers import Dense, Dropout, Activation, Flatten\n",
    "from keras.layers import Convolution2D, MaxPooling2D\n",
    "from keras.optimizers import Adam\n",
    "#from keras.utils import np_utils\n",
    "from sklearn import metrics \n",
    "\n",
    "num_labels = yy.shape[1]\n",
    "filter_size = 2\n",
    "\n",
    "# Construct model \n",
    "model = Sequential()\n",
    "\n",
    "model.add(Dense(256, input_shape=(40,)))\n",
    "model.add(Activation('relu'))\n",
    "model.add(Dropout(0.5))\n",
    "\n",
    "model.add(Dense(256))\n",
    "model.add(Activation('relu'))\n",
    "model.add(Dropout(0.5))\n",
    "\n",
    "model.add(Dense(num_labels))\n",
    "model.add(Activation('softmax'))"
   ]
  },
  {
   "cell_type": "markdown",
   "metadata": {},
   "source": [
    "### Compiling the model \n",
    "\n",
    "For compiling our model, we will use the following three parameters: \n",
    "\n",
    "* Loss function - we will use `categorical_crossentropy`. This is the most common choice for classification. A lower score indicates that the model is performing better.\n",
    "\n",
    "* Metrics - we will use the `accuracy` metric which will allow us to view the accuracy score on the validation data when we train the model. \n",
    "\n",
    "* Optimizer - here we will use `adam` which is a generally good optimizer for many use cases.\n"
   ]
  },
  {
   "cell_type": "code",
   "execution_count": 5,
   "metadata": {},
   "outputs": [],
   "source": [
    "# Compile the model\n",
    "model.compile(loss='categorical_crossentropy', metrics=['accuracy'], optimizer='adam') "
   ]
  },
  {
   "cell_type": "code",
   "execution_count": 6,
   "metadata": {},
   "outputs": [
    {
     "name": "stdout",
     "output_type": "stream",
     "text": [
      "Model: \"sequential_1\"\n",
      "_________________________________________________________________\n",
      " Layer (type)                Output Shape              Param #   \n",
      "=================================================================\n",
      " dense_3 (Dense)             (None, 256)               10496     \n",
      "                                                                 \n",
      " activation_3 (Activation)   (None, 256)               0         \n",
      "                                                                 \n",
      " dropout_2 (Dropout)         (None, 256)               0         \n",
      "                                                                 \n",
      " dense_4 (Dense)             (None, 256)               65792     \n",
      "                                                                 \n",
      " activation_4 (Activation)   (None, 256)               0         \n",
      "                                                                 \n",
      " dropout_3 (Dropout)         (None, 256)               0         \n",
      "                                                                 \n",
      " dense_5 (Dense)             (None, 10)                2570      \n",
      "                                                                 \n",
      " activation_5 (Activation)   (None, 10)                0         \n",
      "                                                                 \n",
      "=================================================================\n",
      "Total params: 78858 (308.04 KB)\n",
      "Trainable params: 78858 (308.04 KB)\n",
      "Non-trainable params: 0 (0.00 Byte)\n",
      "_________________________________________________________________\n",
      "Pre-training accuracy: 3.2627%\n"
     ]
    }
   ],
   "source": [
    "# Display model architecture summary \n",
    "model.summary()\n",
    "\n",
    "# Calculate pre-training accuracy \n",
    "score = model.evaluate(x_test, y_test, verbose=0)\n",
    "accuracy = 100*score[1]\n",
    "\n",
    "print(\"Pre-training accuracy: %.4f%%\" % accuracy)"
   ]
  },
  {
   "cell_type": "markdown",
   "metadata": {},
   "source": [
    "### Training \n",
    "\n",
    "Here we will train the model. \n",
    "\n",
    "We will start with 100 epochs which is the number of times the model will cycle through the data. The model will improve on each cycle until it reaches a certain point. \n",
    "\n",
    "We will also start with a low batch size, as having a large batch size can reduce the generalisation ability of the model. "
   ]
  },
  {
   "cell_type": "code",
   "execution_count": 7,
   "metadata": {},
   "outputs": [
    {
     "name": "stdout",
     "output_type": "stream",
     "text": [
      "Epoch 1/100\n",
      "192/219 [=========================>....] - ETA: 0s - loss: 9.3149 - accuracy: 0.1960 \n",
      "Epoch 1: val_loss improved from inf to 2.11178, saving model to saved_models/weights.best.basic_mlp.hdf5\n",
      "219/219 [==============================] - 0s 1ms/step - loss: 8.4980 - accuracy: 0.2037 - val_loss: 2.1118 - val_accuracy: 0.2587\n",
      "Epoch 2/100\n",
      "188/219 [========================>.....] - ETA: 0s - loss: 2.2470 - accuracy: 0.2621"
     ]
    },
    {
     "name": "stderr",
     "output_type": "stream",
     "text": [
      "/Users/tylervu/anaconda3/lib/python3.11/site-packages/keras/src/engine/training.py:3079: UserWarning: You are saving your model as an HDF5 file via `model.save()`. This file format is considered legacy. We recommend using instead the native Keras format, e.g. `model.save('my_model.keras')`.\n",
      "  saving_api.save_model(\n"
     ]
    },
    {
     "name": "stdout",
     "output_type": "stream",
     "text": [
      "\n",
      "Epoch 2: val_loss improved from 2.11178 to 1.99513, saving model to saved_models/weights.best.basic_mlp.hdf5\n",
      "219/219 [==============================] - 0s 1ms/step - loss: 2.2231 - accuracy: 0.2663 - val_loss: 1.9951 - val_accuracy: 0.2999\n",
      "Epoch 3/100\n",
      "173/219 [======================>.......] - ETA: 0s - loss: 1.9975 - accuracy: 0.3105\n",
      "Epoch 3: val_loss improved from 1.99513 to 1.78030, saving model to saved_models/weights.best.basic_mlp.hdf5\n",
      "219/219 [==============================] - 0s 1ms/step - loss: 1.9785 - accuracy: 0.3194 - val_loss: 1.7803 - val_accuracy: 0.4041\n",
      "Epoch 4/100\n",
      "175/219 [======================>.......] - ETA: 0s - loss: 1.8493 - accuracy: 0.3648\n",
      "Epoch 4: val_loss improved from 1.78030 to 1.63901, saving model to saved_models/weights.best.basic_mlp.hdf5\n",
      "219/219 [==============================] - 0s 1ms/step - loss: 1.8364 - accuracy: 0.3718 - val_loss: 1.6390 - val_accuracy: 0.4551\n",
      "Epoch 5/100\n",
      "207/219 [===========================>..] - ETA: 0s - loss: 1.7092 - accuracy: 0.4143\n",
      "Epoch 5: val_loss improved from 1.63901 to 1.42459, saving model to saved_models/weights.best.basic_mlp.hdf5\n",
      "219/219 [==============================] - 0s 1ms/step - loss: 1.7084 - accuracy: 0.4152 - val_loss: 1.4246 - val_accuracy: 0.5489\n",
      "Epoch 6/100\n",
      "186/219 [========================>.....] - ETA: 0s - loss: 1.6193 - accuracy: 0.4415\n",
      "Epoch 6: val_loss improved from 1.42459 to 1.33010, saving model to saved_models/weights.best.basic_mlp.hdf5\n",
      "219/219 [==============================] - 0s 1ms/step - loss: 1.6030 - accuracy: 0.4477 - val_loss: 1.3301 - val_accuracy: 0.5873\n",
      "Epoch 7/100\n",
      "177/219 [=======================>......] - ETA: 0s - loss: 1.5092 - accuracy: 0.4822\n",
      "Epoch 7: val_loss improved from 1.33010 to 1.25677, saving model to saved_models/weights.best.basic_mlp.hdf5\n",
      "219/219 [==============================] - 0s 1ms/step - loss: 1.4978 - accuracy: 0.4869 - val_loss: 1.2568 - val_accuracy: 0.6090\n",
      "Epoch 8/100\n",
      "178/219 [=======================>......] - ETA: 0s - loss: 1.4272 - accuracy: 0.5081\n",
      "Epoch 8: val_loss improved from 1.25677 to 1.20529, saving model to saved_models/weights.best.basic_mlp.hdf5\n",
      "219/219 [==============================] - 0s 1ms/step - loss: 1.4299 - accuracy: 0.5127 - val_loss: 1.2053 - val_accuracy: 0.6262\n",
      "Epoch 9/100\n",
      "185/219 [========================>.....] - ETA: 0s - loss: 1.3502 - accuracy: 0.5378\n",
      "Epoch 9: val_loss improved from 1.20529 to 1.12347, saving model to saved_models/weights.best.basic_mlp.hdf5\n",
      "219/219 [==============================] - 0s 992us/step - loss: 1.3511 - accuracy: 0.5400 - val_loss: 1.1235 - val_accuracy: 0.6560\n",
      "Epoch 10/100\n",
      "178/219 [=======================>......] - ETA: 0s - loss: 1.2910 - accuracy: 0.5557\n",
      "Epoch 10: val_loss improved from 1.12347 to 1.03600, saving model to saved_models/weights.best.basic_mlp.hdf5\n",
      "219/219 [==============================] - 0s 1ms/step - loss: 1.2829 - accuracy: 0.5585 - val_loss: 1.0360 - val_accuracy: 0.6835\n",
      "Epoch 11/100\n",
      "166/219 [=====================>........] - ETA: 0s - loss: 1.2221 - accuracy: 0.5796\n",
      "Epoch 11: val_loss improved from 1.03600 to 1.03504, saving model to saved_models/weights.best.basic_mlp.hdf5\n",
      "219/219 [==============================] - 0s 1ms/step - loss: 1.2305 - accuracy: 0.5775 - val_loss: 1.0350 - val_accuracy: 0.6983\n",
      "Epoch 12/100\n",
      "179/219 [=======================>......] - ETA: 0s - loss: 1.1737 - accuracy: 0.6006\n",
      "Epoch 12: val_loss improved from 1.03504 to 0.95976, saving model to saved_models/weights.best.basic_mlp.hdf5\n",
      "219/219 [==============================] - 0s 1ms/step - loss: 1.1779 - accuracy: 0.6016 - val_loss: 0.9598 - val_accuracy: 0.7018\n",
      "Epoch 13/100\n",
      "177/219 [=======================>......] - ETA: 0s - loss: 1.1566 - accuracy: 0.6058\n",
      "Epoch 13: val_loss improved from 0.95976 to 0.93562, saving model to saved_models/weights.best.basic_mlp.hdf5\n",
      "219/219 [==============================] - 0s 1ms/step - loss: 1.1635 - accuracy: 0.6059 - val_loss: 0.9356 - val_accuracy: 0.7247\n",
      "Epoch 14/100\n",
      "210/219 [===========================>..] - ETA: 0s - loss: 1.0841 - accuracy: 0.6356\n",
      "Epoch 14: val_loss improved from 0.93562 to 0.88310, saving model to saved_models/weights.best.basic_mlp.hdf5\n",
      "219/219 [==============================] - 0s 1ms/step - loss: 1.0845 - accuracy: 0.6355 - val_loss: 0.8831 - val_accuracy: 0.7424\n",
      "Epoch 15/100\n",
      "184/219 [========================>.....] - ETA: 0s - loss: 1.0614 - accuracy: 0.6349\n",
      "Epoch 15: val_loss improved from 0.88310 to 0.85256, saving model to saved_models/weights.best.basic_mlp.hdf5\n",
      "219/219 [==============================] - 0s 1ms/step - loss: 1.0601 - accuracy: 0.6365 - val_loss: 0.8526 - val_accuracy: 0.7476\n",
      "Epoch 16/100\n",
      "180/219 [=======================>......] - ETA: 0s - loss: 1.0572 - accuracy: 0.6366\n",
      "Epoch 16: val_loss improved from 0.85256 to 0.81114, saving model to saved_models/weights.best.basic_mlp.hdf5\n",
      "219/219 [==============================] - 0s 1ms/step - loss: 1.0438 - accuracy: 0.6422 - val_loss: 0.8111 - val_accuracy: 0.7653\n",
      "Epoch 17/100\n",
      "176/219 [=======================>......] - ETA: 0s - loss: 1.0076 - accuracy: 0.6568\n",
      "Epoch 17: val_loss improved from 0.81114 to 0.80288, saving model to saved_models/weights.best.basic_mlp.hdf5\n",
      "219/219 [==============================] - 0s 1ms/step - loss: 1.0146 - accuracy: 0.6587 - val_loss: 0.8029 - val_accuracy: 0.7642\n",
      "Epoch 18/100\n",
      "176/219 [=======================>......] - ETA: 0s - loss: 0.9998 - accuracy: 0.6667\n",
      "Epoch 18: val_loss improved from 0.80288 to 0.73291, saving model to saved_models/weights.best.basic_mlp.hdf5\n",
      "219/219 [==============================] - 0s 1ms/step - loss: 0.9838 - accuracy: 0.6694 - val_loss: 0.7329 - val_accuracy: 0.7785\n",
      "Epoch 19/100\n",
      "172/219 [======================>.......] - ETA: 0s - loss: 0.9643 - accuracy: 0.6722\n",
      "Epoch 19: val_loss improved from 0.73291 to 0.73173, saving model to saved_models/weights.best.basic_mlp.hdf5\n",
      "219/219 [==============================] - 0s 1ms/step - loss: 0.9544 - accuracy: 0.6787 - val_loss: 0.7317 - val_accuracy: 0.7705\n",
      "Epoch 20/100\n",
      "186/219 [========================>.....] - ETA: 0s - loss: 0.9217 - accuracy: 0.6863\n",
      "Epoch 20: val_loss improved from 0.73173 to 0.72384, saving model to saved_models/weights.best.basic_mlp.hdf5\n",
      "219/219 [==============================] - 0s 995us/step - loss: 0.9236 - accuracy: 0.6860 - val_loss: 0.7238 - val_accuracy: 0.7819\n",
      "Epoch 21/100\n",
      "176/219 [=======================>......] - ETA: 0s - loss: 0.9096 - accuracy: 0.6912\n",
      "Epoch 21: val_loss did not improve from 0.72384\n",
      "219/219 [==============================] - 0s 982us/step - loss: 0.9172 - accuracy: 0.6896 - val_loss: 0.7446 - val_accuracy: 0.7831\n",
      "Epoch 22/100\n",
      "183/219 [========================>.....] - ETA: 0s - loss: 0.8840 - accuracy: 0.6991\n",
      "Epoch 22: val_loss improved from 0.72384 to 0.67190, saving model to saved_models/weights.best.basic_mlp.hdf5\n",
      "219/219 [==============================] - 0s 1ms/step - loss: 0.8803 - accuracy: 0.6995 - val_loss: 0.6719 - val_accuracy: 0.7876\n",
      "Epoch 23/100\n",
      "179/219 [=======================>......] - ETA: 0s - loss: 0.8696 - accuracy: 0.7088\n",
      "Epoch 23: val_loss did not improve from 0.67190\n",
      "219/219 [==============================] - 0s 971us/step - loss: 0.8672 - accuracy: 0.7111 - val_loss: 0.6722 - val_accuracy: 0.8037\n",
      "Epoch 24/100\n",
      "198/219 [==========================>...] - ETA: 0s - loss: 0.8363 - accuracy: 0.7085\n",
      "Epoch 24: val_loss improved from 0.67190 to 0.64696, saving model to saved_models/weights.best.basic_mlp.hdf5\n",
      "219/219 [==============================] - 0s 1ms/step - loss: 0.8376 - accuracy: 0.7087 - val_loss: 0.6470 - val_accuracy: 0.7968\n",
      "Epoch 25/100\n",
      "168/219 [======================>.......] - ETA: 0s - loss: 0.8327 - accuracy: 0.7063\n",
      "Epoch 25: val_loss improved from 0.64696 to 0.64435, saving model to saved_models/weights.best.basic_mlp.hdf5\n",
      "219/219 [==============================] - 0s 1ms/step - loss: 0.8350 - accuracy: 0.7091 - val_loss: 0.6443 - val_accuracy: 0.8031\n",
      "Epoch 26/100\n",
      "170/219 [======================>.......] - ETA: 0s - loss: 0.8239 - accuracy: 0.7235\n",
      "Epoch 26: val_loss did not improve from 0.64435\n",
      "219/219 [==============================] - 0s 1ms/step - loss: 0.8418 - accuracy: 0.7168 - val_loss: 0.6613 - val_accuracy: 0.8042\n",
      "Epoch 27/100\n",
      "170/219 [======================>.......] - ETA: 0s - loss: 0.8250 - accuracy: 0.7232\n",
      "Epoch 27: val_loss improved from 0.64435 to 0.62362, saving model to saved_models/weights.best.basic_mlp.hdf5\n",
      "219/219 [==============================] - 0s 1ms/step - loss: 0.8107 - accuracy: 0.7290 - val_loss: 0.6236 - val_accuracy: 0.8151\n",
      "Epoch 28/100\n",
      "167/219 [=====================>........] - ETA: 0s - loss: 0.7863 - accuracy: 0.7302\n",
      "Epoch 28: val_loss improved from 0.62362 to 0.59719, saving model to saved_models/weights.best.basic_mlp.hdf5\n",
      "219/219 [==============================] - 0s 1ms/step - loss: 0.7879 - accuracy: 0.7300 - val_loss: 0.5972 - val_accuracy: 0.8237\n",
      "Epoch 29/100\n",
      "173/219 [======================>.......] - ETA: 0s - loss: 0.7553 - accuracy: 0.7426\n",
      "Epoch 29: val_loss improved from 0.59719 to 0.59443, saving model to saved_models/weights.best.basic_mlp.hdf5\n",
      "219/219 [==============================] - 0s 1ms/step - loss: 0.7568 - accuracy: 0.7430 - val_loss: 0.5944 - val_accuracy: 0.8145\n",
      "Epoch 30/100\n",
      "170/219 [======================>.......] - ETA: 0s - loss: 0.7653 - accuracy: 0.7360\n",
      "Epoch 30: val_loss improved from 0.59443 to 0.58286, saving model to saved_models/weights.best.basic_mlp.hdf5\n",
      "219/219 [==============================] - 0s 1ms/step - loss: 0.7617 - accuracy: 0.7390 - val_loss: 0.5829 - val_accuracy: 0.8266\n",
      "Epoch 31/100\n",
      "191/219 [=========================>....] - ETA: 0s - loss: 0.7595 - accuracy: 0.7469\n",
      "Epoch 31: val_loss improved from 0.58286 to 0.57698, saving model to saved_models/weights.best.basic_mlp.hdf5\n",
      "219/219 [==============================] - 0s 1ms/step - loss: 0.7534 - accuracy: 0.7476 - val_loss: 0.5770 - val_accuracy: 0.8288\n",
      "Epoch 32/100\n",
      "173/219 [======================>.......] - ETA: 0s - loss: 0.7536 - accuracy: 0.7415\n",
      "Epoch 32: val_loss did not improve from 0.57698\n",
      "219/219 [==============================] - 0s 1ms/step - loss: 0.7622 - accuracy: 0.7402 - val_loss: 0.5999 - val_accuracy: 0.8168\n",
      "Epoch 33/100\n",
      "177/219 [=======================>......] - ETA: 0s - loss: 0.7106 - accuracy: 0.7551\n",
      "Epoch 33: val_loss improved from 0.57698 to 0.56078, saving model to saved_models/weights.best.basic_mlp.hdf5\n",
      "219/219 [==============================] - 0s 1ms/step - loss: 0.7159 - accuracy: 0.7532 - val_loss: 0.5608 - val_accuracy: 0.8288\n",
      "Epoch 34/100\n",
      "181/219 [=======================>......] - ETA: 0s - loss: 0.7151 - accuracy: 0.7631\n",
      "Epoch 34: val_loss did not improve from 0.56078\n",
      "219/219 [==============================] - 0s 970us/step - loss: 0.7123 - accuracy: 0.7605 - val_loss: 0.5736 - val_accuracy: 0.8283\n",
      "Epoch 35/100\n",
      "185/219 [========================>.....] - ETA: 0s - loss: 0.7207 - accuracy: 0.7556\n",
      "Epoch 35: val_loss did not improve from 0.56078\n",
      "219/219 [==============================] - 0s 954us/step - loss: 0.7238 - accuracy: 0.7560 - val_loss: 0.5666 - val_accuracy: 0.8203\n",
      "Epoch 36/100\n",
      "173/219 [======================>.......] - ETA: 0s - loss: 0.7244 - accuracy: 0.7574\n",
      "Epoch 36: val_loss improved from 0.56078 to 0.55762, saving model to saved_models/weights.best.basic_mlp.hdf5\n",
      "219/219 [==============================] - 0s 1ms/step - loss: 0.7366 - accuracy: 0.7520 - val_loss: 0.5576 - val_accuracy: 0.8392\n",
      "Epoch 37/100\n",
      "200/219 [==========================>...] - ETA: 0s - loss: 0.7235 - accuracy: 0.7534\n",
      "Epoch 37: val_loss did not improve from 0.55762\n",
      "219/219 [==============================] - 0s 1ms/step - loss: 0.7250 - accuracy: 0.7520 - val_loss: 0.5628 - val_accuracy: 0.8203\n",
      "Epoch 38/100\n",
      "167/219 [=====================>........] - ETA: 0s - loss: 0.6948 - accuracy: 0.7616\n",
      "Epoch 38: val_loss improved from 0.55762 to 0.54228, saving model to saved_models/weights.best.basic_mlp.hdf5\n",
      "219/219 [==============================] - 0s 1ms/step - loss: 0.6971 - accuracy: 0.7605 - val_loss: 0.5423 - val_accuracy: 0.8260\n",
      "Epoch 39/100\n",
      "169/219 [======================>.......] - ETA: 0s - loss: 0.6765 - accuracy: 0.7678\n",
      "Epoch 39: val_loss did not improve from 0.54228\n",
      "219/219 [==============================] - 0s 1ms/step - loss: 0.6862 - accuracy: 0.7638 - val_loss: 0.5510 - val_accuracy: 0.8340\n",
      "Epoch 40/100\n",
      "179/219 [=======================>......] - ETA: 0s - loss: 0.6917 - accuracy: 0.7697\n",
      "Epoch 40: val_loss improved from 0.54228 to 0.53823, saving model to saved_models/weights.best.basic_mlp.hdf5\n",
      "219/219 [==============================] - 0s 1ms/step - loss: 0.6853 - accuracy: 0.7698 - val_loss: 0.5382 - val_accuracy: 0.8397\n",
      "Epoch 41/100\n",
      "176/219 [=======================>......] - ETA: 0s - loss: 0.6549 - accuracy: 0.7750\n",
      "Epoch 41: val_loss improved from 0.53823 to 0.51753, saving model to saved_models/weights.best.basic_mlp.hdf5\n",
      "219/219 [==============================] - 0s 1ms/step - loss: 0.6643 - accuracy: 0.7729 - val_loss: 0.5175 - val_accuracy: 0.8346\n",
      "Epoch 42/100\n",
      "175/219 [======================>.......] - ETA: 0s - loss: 0.6695 - accuracy: 0.7793\n",
      "Epoch 42: val_loss did not improve from 0.51753\n",
      "219/219 [==============================] - 0s 1ms/step - loss: 0.6769 - accuracy: 0.7732 - val_loss: 0.5408 - val_accuracy: 0.8500\n",
      "Epoch 43/100\n",
      "207/219 [===========================>..] - ETA: 0s - loss: 0.6581 - accuracy: 0.7779\n",
      "Epoch 43: val_loss did not improve from 0.51753\n",
      "219/219 [==============================] - 0s 1ms/step - loss: 0.6565 - accuracy: 0.7785 - val_loss: 0.5402 - val_accuracy: 0.8317\n",
      "Epoch 44/100\n",
      "182/219 [=======================>......] - ETA: 0s - loss: 0.6769 - accuracy: 0.7749\n",
      "Epoch 44: val_loss did not improve from 0.51753\n",
      "219/219 [==============================] - 0s 972us/step - loss: 0.6712 - accuracy: 0.7764 - val_loss: 0.5188 - val_accuracy: 0.8437\n",
      "Epoch 45/100\n",
      "176/219 [=======================>......] - ETA: 0s - loss: 0.6772 - accuracy: 0.7757\n",
      "Epoch 45: val_loss improved from 0.51753 to 0.50835, saving model to saved_models/weights.best.basic_mlp.hdf5\n",
      "219/219 [==============================] - 0s 1ms/step - loss: 0.6736 - accuracy: 0.7765 - val_loss: 0.5084 - val_accuracy: 0.8443\n",
      "Epoch 46/100\n",
      "178/219 [=======================>......] - ETA: 0s - loss: 0.6512 - accuracy: 0.7774\n",
      "Epoch 46: val_loss did not improve from 0.50835\n",
      "219/219 [==============================] - 0s 981us/step - loss: 0.6403 - accuracy: 0.7807 - val_loss: 0.5124 - val_accuracy: 0.8460\n",
      "Epoch 47/100\n",
      "175/219 [======================>.......] - ETA: 0s - loss: 0.6599 - accuracy: 0.7761\n",
      "Epoch 47: val_loss improved from 0.50835 to 0.50727, saving model to saved_models/weights.best.basic_mlp.hdf5\n",
      "219/219 [==============================] - 0s 1ms/step - loss: 0.6587 - accuracy: 0.7788 - val_loss: 0.5073 - val_accuracy: 0.8506\n",
      "Epoch 48/100\n",
      "173/219 [======================>.......] - ETA: 0s - loss: 0.6350 - accuracy: 0.7822\n",
      "Epoch 48: val_loss improved from 0.50727 to 0.50325, saving model to saved_models/weights.best.basic_mlp.hdf5\n",
      "219/219 [==============================] - 0s 1ms/step - loss: 0.6342 - accuracy: 0.7837 - val_loss: 0.5033 - val_accuracy: 0.8523\n",
      "Epoch 49/100\n",
      "195/219 [=========================>....] - ETA: 0s - loss: 0.6470 - accuracy: 0.7816\n",
      "Epoch 49: val_loss did not improve from 0.50325\n",
      "219/219 [==============================] - 0s 1ms/step - loss: 0.6472 - accuracy: 0.7808 - val_loss: 0.5094 - val_accuracy: 0.8500\n",
      "Epoch 50/100\n",
      "171/219 [======================>.......] - ETA: 0s - loss: 0.6406 - accuracy: 0.7856\n",
      "Epoch 50: val_loss improved from 0.50325 to 0.48456, saving model to saved_models/weights.best.basic_mlp.hdf5\n",
      "219/219 [==============================] - 0s 1ms/step - loss: 0.6412 - accuracy: 0.7850 - val_loss: 0.4846 - val_accuracy: 0.8540\n",
      "Epoch 51/100\n",
      "173/219 [======================>.......] - ETA: 0s - loss: 0.6449 - accuracy: 0.7760\n",
      "Epoch 51: val_loss did not improve from 0.48456\n",
      "219/219 [==============================] - 0s 999us/step - loss: 0.6412 - accuracy: 0.7791 - val_loss: 0.4948 - val_accuracy: 0.8495\n",
      "Epoch 52/100\n",
      "175/219 [======================>.......] - ETA: 0s - loss: 0.6245 - accuracy: 0.7946\n",
      "Epoch 52: val_loss did not improve from 0.48456\n",
      "219/219 [==============================] - 0s 991us/step - loss: 0.6271 - accuracy: 0.7916 - val_loss: 0.4911 - val_accuracy: 0.8603\n",
      "Epoch 53/100\n",
      "170/219 [======================>.......] - ETA: 0s - loss: 0.6147 - accuracy: 0.7915\n",
      "Epoch 53: val_loss improved from 0.48456 to 0.47266, saving model to saved_models/weights.best.basic_mlp.hdf5\n",
      "219/219 [==============================] - 0s 1ms/step - loss: 0.6132 - accuracy: 0.7928 - val_loss: 0.4727 - val_accuracy: 0.8638\n",
      "Epoch 54/100\n",
      "197/219 [=========================>....] - ETA: 0s - loss: 0.6110 - accuracy: 0.7924\n",
      "Epoch 54: val_loss did not improve from 0.47266\n",
      "219/219 [==============================] - 0s 1ms/step - loss: 0.6110 - accuracy: 0.7930 - val_loss: 0.4984 - val_accuracy: 0.8512\n",
      "Epoch 55/100\n",
      "171/219 [======================>.......] - ETA: 0s - loss: 0.6201 - accuracy: 0.7823\n",
      "Epoch 55: val_loss did not improve from 0.47266\n",
      "219/219 [==============================] - 0s 1ms/step - loss: 0.6313 - accuracy: 0.7788 - val_loss: 0.4867 - val_accuracy: 0.8517\n",
      "Epoch 56/100\n",
      "211/219 [===========================>..] - ETA: 0s - loss: 0.6324 - accuracy: 0.7894\n",
      "Epoch 56: val_loss did not improve from 0.47266\n",
      "219/219 [==============================] - 0s 1ms/step - loss: 0.6330 - accuracy: 0.7891 - val_loss: 0.5000 - val_accuracy: 0.8575\n",
      "Epoch 57/100\n",
      "171/219 [======================>.......] - ETA: 0s - loss: 0.6098 - accuracy: 0.7959\n",
      "Epoch 57: val_loss improved from 0.47266 to 0.46438, saving model to saved_models/weights.best.basic_mlp.hdf5\n",
      "219/219 [==============================] - 0s 1ms/step - loss: 0.6091 - accuracy: 0.7970 - val_loss: 0.4644 - val_accuracy: 0.8575\n",
      "Epoch 58/100\n",
      "217/219 [============================>.] - ETA: 0s - loss: 0.5868 - accuracy: 0.7964\n",
      "Epoch 58: val_loss did not improve from 0.46438\n",
      "219/219 [==============================] - 0s 1ms/step - loss: 0.5873 - accuracy: 0.7967 - val_loss: 0.4848 - val_accuracy: 0.8655\n",
      "Epoch 59/100\n",
      "185/219 [========================>.....] - ETA: 0s - loss: 0.6148 - accuracy: 0.7892\n",
      "Epoch 59: val_loss did not improve from 0.46438\n",
      "219/219 [==============================] - 0s 1ms/step - loss: 0.6100 - accuracy: 0.7914 - val_loss: 0.4729 - val_accuracy: 0.8540\n",
      "Epoch 60/100\n",
      "217/219 [============================>.] - ETA: 0s - loss: 0.5994 - accuracy: 0.7975\n",
      "Epoch 60: val_loss did not improve from 0.46438\n",
      "219/219 [==============================] - 0s 1ms/step - loss: 0.5991 - accuracy: 0.7977 - val_loss: 0.4731 - val_accuracy: 0.8615\n",
      "Epoch 61/100\n",
      "188/219 [========================>.....] - ETA: 0s - loss: 0.5580 - accuracy: 0.8085\n",
      "Epoch 61: val_loss improved from 0.46438 to 0.45268, saving model to saved_models/weights.best.basic_mlp.hdf5\n",
      "219/219 [==============================] - 0s 1ms/step - loss: 0.5637 - accuracy: 0.8069 - val_loss: 0.4527 - val_accuracy: 0.8712\n",
      "Epoch 62/100\n",
      "170/219 [======================>.......] - ETA: 0s - loss: 0.6019 - accuracy: 0.7983\n",
      "Epoch 62: val_loss did not improve from 0.45268\n",
      "219/219 [==============================] - 0s 1ms/step - loss: 0.5977 - accuracy: 0.8007 - val_loss: 0.4642 - val_accuracy: 0.8615\n",
      "Epoch 63/100\n",
      "207/219 [===========================>..] - ETA: 0s - loss: 0.5848 - accuracy: 0.7988\n",
      "Epoch 63: val_loss did not improve from 0.45268\n",
      "219/219 [==============================] - 0s 1ms/step - loss: 0.5865 - accuracy: 0.7980 - val_loss: 0.4528 - val_accuracy: 0.8626\n",
      "Epoch 64/100\n",
      "184/219 [========================>.....] - ETA: 0s - loss: 0.5896 - accuracy: 0.7970\n",
      "Epoch 64: val_loss did not improve from 0.45268\n",
      "219/219 [==============================] - 0s 974us/step - loss: 0.5828 - accuracy: 0.7999 - val_loss: 0.4595 - val_accuracy: 0.8632\n",
      "Epoch 65/100\n",
      "181/219 [=======================>......] - ETA: 0s - loss: 0.5754 - accuracy: 0.8063\n",
      "Epoch 65: val_loss did not improve from 0.45268\n",
      "219/219 [==============================] - 0s 967us/step - loss: 0.5800 - accuracy: 0.8050 - val_loss: 0.4543 - val_accuracy: 0.8666\n",
      "Epoch 66/100\n",
      "181/219 [=======================>......] - ETA: 0s - loss: 0.5748 - accuracy: 0.8103\n",
      "Epoch 66: val_loss improved from 0.45268 to 0.44309, saving model to saved_models/weights.best.basic_mlp.hdf5\n",
      "219/219 [==============================] - 0s 1ms/step - loss: 0.5732 - accuracy: 0.8084 - val_loss: 0.4431 - val_accuracy: 0.8712\n",
      "Epoch 67/100\n",
      "200/219 [==========================>...] - ETA: 0s - loss: 0.5868 - accuracy: 0.7967\n",
      "Epoch 67: val_loss did not improve from 0.44309\n",
      "219/219 [==============================] - 0s 1ms/step - loss: 0.5844 - accuracy: 0.7966 - val_loss: 0.4604 - val_accuracy: 0.8638\n",
      "Epoch 68/100\n",
      "179/219 [=======================>......] - ETA: 0s - loss: 0.5797 - accuracy: 0.7982\n",
      "Epoch 68: val_loss did not improve from 0.44309\n",
      "219/219 [==============================] - 0s 985us/step - loss: 0.5846 - accuracy: 0.7970 - val_loss: 0.4571 - val_accuracy: 0.8632\n",
      "Epoch 69/100\n",
      "176/219 [=======================>......] - ETA: 0s - loss: 0.6050 - accuracy: 0.7969\n",
      "Epoch 69: val_loss did not improve from 0.44309\n",
      "219/219 [==============================] - 0s 986us/step - loss: 0.5998 - accuracy: 0.7986 - val_loss: 0.4609 - val_accuracy: 0.8535\n",
      "Epoch 70/100\n",
      "178/219 [=======================>......] - ETA: 0s - loss: 0.5499 - accuracy: 0.8079\n",
      "Epoch 70: val_loss did not improve from 0.44309\n",
      "219/219 [==============================] - 0s 996us/step - loss: 0.5573 - accuracy: 0.8094 - val_loss: 0.4533 - val_accuracy: 0.8598\n",
      "Epoch 71/100\n",
      "172/219 [======================>.......] - ETA: 0s - loss: 0.5731 - accuracy: 0.8036\n",
      "Epoch 71: val_loss improved from 0.44309 to 0.44296, saving model to saved_models/weights.best.basic_mlp.hdf5\n",
      "219/219 [==============================] - 0s 1ms/step - loss: 0.5754 - accuracy: 0.8043 - val_loss: 0.4430 - val_accuracy: 0.8706\n",
      "Epoch 72/100\n",
      "194/219 [=========================>....] - ETA: 0s - loss: 0.5540 - accuracy: 0.8112\n",
      "Epoch 72: val_loss did not improve from 0.44296\n",
      "219/219 [==============================] - 0s 1ms/step - loss: 0.5575 - accuracy: 0.8110 - val_loss: 0.4508 - val_accuracy: 0.8712\n",
      "Epoch 73/100\n",
      "173/219 [======================>.......] - ETA: 0s - loss: 0.5496 - accuracy: 0.8116\n",
      "Epoch 73: val_loss did not improve from 0.44296\n",
      "219/219 [==============================] - 0s 1ms/step - loss: 0.5551 - accuracy: 0.8135 - val_loss: 0.4467 - val_accuracy: 0.8724\n",
      "Epoch 74/100\n",
      "168/219 [======================>.......] - ETA: 0s - loss: 0.5481 - accuracy: 0.8106\n",
      "Epoch 74: val_loss did not improve from 0.44296\n",
      "219/219 [==============================] - 0s 1ms/step - loss: 0.5529 - accuracy: 0.8117 - val_loss: 0.4598 - val_accuracy: 0.8678\n",
      "Epoch 75/100\n",
      "180/219 [=======================>......] - ETA: 0s - loss: 0.5603 - accuracy: 0.8123\n",
      "Epoch 75: val_loss did not improve from 0.44296\n",
      "219/219 [==============================] - 0s 969us/step - loss: 0.5656 - accuracy: 0.8125 - val_loss: 0.4734 - val_accuracy: 0.8580\n",
      "Epoch 76/100\n",
      "209/219 [===========================>..] - ETA: 0s - loss: 0.5652 - accuracy: 0.8126\n",
      "Epoch 76: val_loss did not improve from 0.44296\n",
      "219/219 [==============================] - 0s 1ms/step - loss: 0.5659 - accuracy: 0.8125 - val_loss: 0.4582 - val_accuracy: 0.8643\n",
      "Epoch 77/100\n",
      "179/219 [=======================>......] - ETA: 0s - loss: 0.5653 - accuracy: 0.8081\n",
      "Epoch 77: val_loss did not improve from 0.44296\n",
      "219/219 [==============================] - 0s 980us/step - loss: 0.5606 - accuracy: 0.8089 - val_loss: 0.4522 - val_accuracy: 0.8661\n",
      "Epoch 78/100\n",
      "182/219 [=======================>......] - ETA: 0s - loss: 0.5663 - accuracy: 0.8065\n",
      "Epoch 78: val_loss did not improve from 0.44296\n",
      "219/219 [==============================] - 0s 975us/step - loss: 0.5632 - accuracy: 0.8069 - val_loss: 0.4539 - val_accuracy: 0.8735\n",
      "Epoch 79/100\n",
      "179/219 [=======================>......] - ETA: 0s - loss: 0.5424 - accuracy: 0.8151\n",
      "Epoch 79: val_loss improved from 0.44296 to 0.43715, saving model to saved_models/weights.best.basic_mlp.hdf5\n",
      "219/219 [==============================] - 0s 1ms/step - loss: 0.5373 - accuracy: 0.8202 - val_loss: 0.4371 - val_accuracy: 0.8741\n",
      "Epoch 80/100\n",
      "209/219 [===========================>..] - ETA: 0s - loss: 0.5530 - accuracy: 0.8152\n",
      "Epoch 80: val_loss did not improve from 0.43715\n",
      "219/219 [==============================] - 0s 1ms/step - loss: 0.5550 - accuracy: 0.8143 - val_loss: 0.4437 - val_accuracy: 0.8741\n",
      "Epoch 81/100\n",
      "180/219 [=======================>......] - ETA: 0s - loss: 0.5328 - accuracy: 0.8194\n",
      "Epoch 81: val_loss improved from 0.43715 to 0.43283, saving model to saved_models/weights.best.basic_mlp.hdf5\n",
      "219/219 [==============================] - 0s 1ms/step - loss: 0.5377 - accuracy: 0.8185 - val_loss: 0.4328 - val_accuracy: 0.8798\n",
      "Epoch 82/100\n",
      "179/219 [=======================>......] - ETA: 0s - loss: 0.5779 - accuracy: 0.8022\n",
      "Epoch 82: val_loss did not improve from 0.43283\n",
      "219/219 [==============================] - 0s 983us/step - loss: 0.5672 - accuracy: 0.8072 - val_loss: 0.4462 - val_accuracy: 0.8638\n",
      "Epoch 83/100\n",
      "176/219 [=======================>......] - ETA: 0s - loss: 0.5513 - accuracy: 0.8143\n",
      "Epoch 83: val_loss did not improve from 0.43283\n",
      "219/219 [==============================] - 0s 988us/step - loss: 0.5416 - accuracy: 0.8172 - val_loss: 0.4512 - val_accuracy: 0.8718\n",
      "Epoch 84/100\n",
      "202/219 [==========================>...] - ETA: 0s - loss: 0.5650 - accuracy: 0.8083\n",
      "Epoch 84: val_loss did not improve from 0.43283\n",
      "219/219 [==============================] - 0s 1ms/step - loss: 0.5677 - accuracy: 0.8080 - val_loss: 0.4474 - val_accuracy: 0.8752\n",
      "Epoch 85/100\n",
      "177/219 [=======================>......] - ETA: 0s - loss: 0.5335 - accuracy: 0.8176\n",
      "Epoch 85: val_loss did not improve from 0.43283\n",
      "219/219 [==============================] - 0s 989us/step - loss: 0.5372 - accuracy: 0.8165 - val_loss: 0.4460 - val_accuracy: 0.8838\n",
      "Epoch 86/100\n",
      "175/219 [======================>.......] - ETA: 0s - loss: 0.5211 - accuracy: 0.8273\n",
      "Epoch 86: val_loss improved from 0.43283 to 0.42441, saving model to saved_models/weights.best.basic_mlp.hdf5\n",
      "219/219 [==============================] - 0s 1ms/step - loss: 0.5275 - accuracy: 0.8258 - val_loss: 0.4244 - val_accuracy: 0.8752\n",
      "Epoch 87/100\n",
      "177/219 [=======================>......] - ETA: 0s - loss: 0.5357 - accuracy: 0.8236\n",
      "Epoch 87: val_loss did not improve from 0.42441\n",
      "219/219 [==============================] - 0s 983us/step - loss: 0.5399 - accuracy: 0.8210 - val_loss: 0.4310 - val_accuracy: 0.8832\n",
      "Epoch 88/100\n",
      "205/219 [===========================>..] - ETA: 0s - loss: 0.5291 - accuracy: 0.8216\n",
      "Epoch 88: val_loss did not improve from 0.42441\n",
      "219/219 [==============================] - 0s 1ms/step - loss: 0.5285 - accuracy: 0.8219 - val_loss: 0.4267 - val_accuracy: 0.8746\n",
      "Epoch 89/100\n",
      "180/219 [=======================>......] - ETA: 0s - loss: 0.5292 - accuracy: 0.8276\n",
      "Epoch 89: val_loss improved from 0.42441 to 0.42302, saving model to saved_models/weights.best.basic_mlp.hdf5\n",
      "219/219 [==============================] - 0s 1ms/step - loss: 0.5334 - accuracy: 0.8239 - val_loss: 0.4230 - val_accuracy: 0.8786\n",
      "Epoch 90/100\n",
      "175/219 [======================>.......] - ETA: 0s - loss: 0.5474 - accuracy: 0.8171\n",
      "Epoch 90: val_loss did not improve from 0.42302\n",
      "219/219 [==============================] - 0s 995us/step - loss: 0.5516 - accuracy: 0.8175 - val_loss: 0.4294 - val_accuracy: 0.8786\n",
      "Epoch 91/100\n",
      "176/219 [=======================>......] - ETA: 0s - loss: 0.5437 - accuracy: 0.8207\n",
      "Epoch 91: val_loss did not improve from 0.42302\n",
      "219/219 [==============================] - 0s 987us/step - loss: 0.5458 - accuracy: 0.8192 - val_loss: 0.4626 - val_accuracy: 0.8764\n",
      "Epoch 92/100\n",
      "177/219 [=======================>......] - ETA: 0s - loss: 0.5386 - accuracy: 0.8219\n",
      "Epoch 92: val_loss did not improve from 0.42302\n",
      "219/219 [==============================] - 0s 982us/step - loss: 0.5484 - accuracy: 0.8163 - val_loss: 0.4276 - val_accuracy: 0.8844\n",
      "Epoch 93/100\n",
      "198/219 [==========================>...] - ETA: 0s - loss: 0.5441 - accuracy: 0.8161\n",
      "Epoch 93: val_loss did not improve from 0.42302\n",
      "219/219 [==============================] - 0s 1ms/step - loss: 0.5439 - accuracy: 0.8178 - val_loss: 0.4305 - val_accuracy: 0.8769\n",
      "Epoch 94/100\n",
      "219/219 [==============================] - ETA: 0s - loss: 0.5300 - accuracy: 0.8255\n",
      "Epoch 94: val_loss did not improve from 0.42302\n",
      "219/219 [==============================] - 0s 1ms/step - loss: 0.5300 - accuracy: 0.8255 - val_loss: 0.4257 - val_accuracy: 0.8764\n",
      "Epoch 95/100\n",
      "172/219 [======================>.......] - ETA: 0s - loss: 0.5246 - accuracy: 0.8185\n",
      "Epoch 95: val_loss did not improve from 0.42302\n",
      "219/219 [==============================] - 0s 1ms/step - loss: 0.5268 - accuracy: 0.8193 - val_loss: 0.4295 - val_accuracy: 0.8849\n",
      "Epoch 96/100\n",
      "178/219 [=======================>......] - ETA: 0s - loss: 0.5391 - accuracy: 0.8202\n",
      "Epoch 96: val_loss did not improve from 0.42302\n",
      "219/219 [==============================] - 0s 980us/step - loss: 0.5347 - accuracy: 0.8222 - val_loss: 0.4282 - val_accuracy: 0.8724\n",
      "Epoch 97/100\n",
      "189/219 [========================>.....] - ETA: 0s - loss: 0.5179 - accuracy: 0.8216\n",
      "Epoch 97: val_loss improved from 0.42302 to 0.41436, saving model to saved_models/weights.best.basic_mlp.hdf5\n",
      "219/219 [==============================] - 0s 1ms/step - loss: 0.5165 - accuracy: 0.8235 - val_loss: 0.4144 - val_accuracy: 0.8838\n",
      "Epoch 98/100\n",
      "173/219 [======================>.......] - ETA: 0s - loss: 0.4933 - accuracy: 0.8322\n",
      "Epoch 98: val_loss did not improve from 0.41436\n",
      "219/219 [==============================] - 0s 1ms/step - loss: 0.5024 - accuracy: 0.8289 - val_loss: 0.4356 - val_accuracy: 0.8775\n",
      "Epoch 99/100\n",
      "176/219 [=======================>......] - ETA: 0s - loss: 0.5216 - accuracy: 0.8255\n",
      "Epoch 99: val_loss did not improve from 0.41436\n",
      "219/219 [==============================] - 0s 1ms/step - loss: 0.5221 - accuracy: 0.8229 - val_loss: 0.4237 - val_accuracy: 0.8809\n",
      "Epoch 100/100\n",
      "169/219 [======================>.......] - ETA: 0s - loss: 0.5351 - accuracy: 0.8216\n",
      "Epoch 100: val_loss did not improve from 0.41436\n",
      "219/219 [==============================] - 0s 1ms/step - loss: 0.5415 - accuracy: 0.8198 - val_loss: 0.4277 - val_accuracy: 0.8815\n",
      "Training completed in time:  0:00:23.327961\n"
     ]
    }
   ],
   "source": [
    "from keras.callbacks import ModelCheckpoint \n",
    "from datetime import datetime \n",
    "\n",
    "num_epochs = 100\n",
    "num_batch_size = 32\n",
    "\n",
    "checkpointer = ModelCheckpoint(filepath='saved_models/weights.best.basic_mlp.hdf5', \n",
    "                               verbose=1, save_best_only=True)\n",
    "start = datetime.now()\n",
    "\n",
    "model.fit(x_train, y_train, batch_size=num_batch_size, epochs=num_epochs, validation_data=(x_test, y_test), callbacks=[checkpointer], verbose=1)\n",
    "\n",
    "\n",
    "duration = datetime.now() - start\n",
    "print(\"Training completed in time: \", duration)"
   ]
  },
  {
   "cell_type": "markdown",
   "metadata": {},
   "source": [
    "### Test the model \n",
    "\n",
    "Here we will review the accuracy of the model on both the training and test data sets. "
   ]
  },
  {
   "cell_type": "code",
   "execution_count": 8,
   "metadata": {},
   "outputs": [
    {
     "name": "stdout",
     "output_type": "stream",
     "text": [
      "Training Accuracy:  0.9255547523498535\n",
      "Testing Accuracy:  0.8815111517906189\n"
     ]
    }
   ],
   "source": [
    "# Evaluating the model on the training and testing set\n",
    "score = model.evaluate(x_train, y_train, verbose=0)\n",
    "print(\"Training Accuracy: \", score[1])\n",
    "\n",
    "score = model.evaluate(x_test, y_test, verbose=0)\n",
    "print(\"Testing Accuracy: \", score[1])"
   ]
  },
  {
   "cell_type": "markdown",
   "metadata": {},
   "source": [
    "The initial Training and Testing accuracy scores are quite high. As there is not a great difference between the Training and Test scores (~5%) this suggests that the model has not suffered from overfitting. "
   ]
  },
  {
   "cell_type": "markdown",
   "metadata": {},
   "source": [
    "### Predictions  \n",
    "\n",
    "Here we will build a method which will allow us to test the models predictions on a specified audio .wav file. "
   ]
  },
  {
   "cell_type": "code",
   "execution_count": 9,
   "metadata": {},
   "outputs": [],
   "source": [
    "import librosa \n",
    "import numpy as np \n",
    "\n",
    "def extract_feature(file_name):\n",
    "   \n",
    "    try:\n",
    "        audio_data, sample_rate = librosa.load(file_name, res_type='kaiser_fast') \n",
    "        mfccs = librosa.feature.mfcc(y=audio_data, sr=sample_rate, n_mfcc=40)\n",
    "        mfccsscaled = np.mean(mfccs.T,axis=0)\n",
    "        \n",
    "    except Exception as e:\n",
    "        print(\"Error encountered while parsing file: \", file)\n",
    "        return None, None\n",
    "\n",
    "    return np.array([mfccsscaled])\n"
   ]
  },
  {
   "cell_type": "code",
   "execution_count": 10,
   "metadata": {},
   "outputs": [],
   "source": [
    "def print_prediction(file_name):\n",
    "    prediction_feature = extract_feature(file_name) \n",
    "\n",
    "    predicted_vector = model.predict_classes(prediction_feature)\n",
    "    predicted_class = le.inverse_transform(predicted_vector) \n",
    "    print(\"The predicted class is:\", predicted_class[0], '\\n') \n",
    "\n",
    "    predicted_proba_vector = model.predict_proba(prediction_feature) \n",
    "    predicted_proba = predicted_proba_vector[0]\n",
    "    for i in range(len(predicted_proba)): \n",
    "        category = le.inverse_transform(np.array([i]))\n",
    "        print(category[0], \"\\t\\t : \", format(predicted_proba[i], '.32f') )"
   ]
  },
  {
   "cell_type": "markdown",
   "metadata": {},
   "source": [
    "### Validation \n",
    "\n",
    "#### Test with sample data \n",
    "\n",
    "Initial sainity check to verify the predictions using a subsection of the sample audio files we explored in the first notebook. We expect the bulk of these to be classified correctly. "
   ]
  },
  {
   "cell_type": "code",
   "execution_count": 13,
   "metadata": {
    "tags": []
   },
   "outputs": [],
   "source": [
    "import numpy as np\n",
    "\n",
    "def print_prediction(file_name):\n",
    "    prediction_feature = extract_feature(file_name)\n",
    "    predicted_vector = model.predict(prediction_feature)\n",
    "    predicted_class = np.argmax(predicted_vector, axis=-1)\n",
    "    predicted_label = le.inverse_transform(predicted_class)\n",
    "    print(\"The predicted class is:\", predicted_label[0], '\\n')"
   ]
  },
  {
   "cell_type": "code",
   "execution_count": 14,
   "metadata": {},
   "outputs": [
    {
     "name": "stdout",
     "output_type": "stream",
     "text": [
      "1/1 [==============================] - 0s 124ms/step\n",
      "The predicted class is: air_conditioner \n",
      "\n"
     ]
    }
   ],
   "source": [
    "# Class: Air Conditioner\n",
    "\n",
    "filename = '../UrbanSound Dataset sample/audio/100852-0-0-0.wav' \n",
    "print_prediction(filename) "
   ]
  },
  {
   "cell_type": "code",
   "execution_count": 15,
   "metadata": {
    "scrolled": true
   },
   "outputs": [
    {
     "name": "stdout",
     "output_type": "stream",
     "text": [
      "1/1 [==============================] - 0s 22ms/step\n",
      "The predicted class is: drilling \n",
      "\n"
     ]
    }
   ],
   "source": [
    "# Class: Drilling\n",
    "\n",
    "filename = '../UrbanSound Dataset sample/audio/103199-4-0-0.wav'\n",
    "print_prediction(filename) "
   ]
  },
  {
   "cell_type": "code",
   "execution_count": 16,
   "metadata": {},
   "outputs": [
    {
     "name": "stdout",
     "output_type": "stream",
     "text": [
      "1/1 [==============================] - 0s 12ms/step\n",
      "The predicted class is: street_music \n",
      "\n"
     ]
    }
   ],
   "source": [
    "# Class: Street music \n",
    "\n",
    "filename = '../UrbanSound Dataset sample/audio/101848-9-0-0.wav'\n",
    "print_prediction(filename) "
   ]
  },
  {
   "cell_type": "code",
   "execution_count": 18,
   "metadata": {},
   "outputs": [
    {
     "name": "stdout",
     "output_type": "stream",
     "text": [
      "1/1 [==============================] - 0s 17ms/step\n",
      "The predicted class is: dog_bark \n",
      "\n"
     ]
    }
   ],
   "source": [
    "# Class: Car Horn \n",
    "\n",
    "filename = '../UrbanSound Dataset sample/audio/100648-1-0-0.wav'\n",
    "print_prediction(filename) "
   ]
  },
  {
   "cell_type": "markdown",
   "metadata": {},
   "source": [
    "#### Observations \n",
    "\n",
    "From this brief sanity check the model seems to predict well. One errror was observed whereby a car horn was incorrectly classifed as a dog bark. \n",
    "\n",
    "We can see from the per class confidence that this was quite a low score (43%). This allows follows our early observation that a dog bark and car horn are similar in spectral shape. "
   ]
  },
  {
   "cell_type": "markdown",
   "metadata": {},
   "source": [
    "### Other audio\n",
    "\n",
    "Here we will use a sample of various copyright free sounds that we not part of either our test or training data to further validate our model. "
   ]
  },
  {
   "cell_type": "code",
   "execution_count": 19,
   "metadata": {},
   "outputs": [
    {
     "name": "stdout",
     "output_type": "stream",
     "text": [
      "1/1 [==============================] - 0s 23ms/step\n",
      "The predicted class is: dog_bark \n",
      "\n"
     ]
    }
   ],
   "source": [
    "filename = '../Evaluation audio/dog_bark_1.wav'\n",
    "print_prediction(filename) "
   ]
  },
  {
   "cell_type": "code",
   "execution_count": 20,
   "metadata": {
    "scrolled": true
   },
   "outputs": [
    {
     "name": "stdout",
     "output_type": "stream",
     "text": [
      "1/1 [==============================] - 0s 15ms/step\n",
      "The predicted class is: jackhammer \n",
      "\n"
     ]
    }
   ],
   "source": [
    "filename = '../Evaluation audio/drilling_1.wav'\n",
    "\n",
    "print_prediction(filename) "
   ]
  },
  {
   "cell_type": "code",
   "execution_count": 21,
   "metadata": {},
   "outputs": [
    {
     "name": "stdout",
     "output_type": "stream",
     "text": [
      "1/1 [==============================] - 0s 24ms/step\n",
      "The predicted class is: street_music \n",
      "\n"
     ]
    }
   ],
   "source": [
    "filename = '../Evaluation audio/gun_shot_1.wav'\n",
    "\n",
    "print_prediction(filename) \n",
    "\n",
    "# sample data weighted towards gun shot - peak in the dog barking sample is simmilar in shape to the gun shot sample"
   ]
  },
  {
   "cell_type": "code",
   "execution_count": 22,
   "metadata": {},
   "outputs": [
    {
     "name": "stdout",
     "output_type": "stream",
     "text": [
      "1/1 [==============================] - 0s 26ms/step\n",
      "The predicted class is: siren \n",
      "\n"
     ]
    }
   ],
   "source": [
    "filename = '../Evaluation audio/siren_1.wav'\n",
    "\n",
    "print_prediction(filename) "
   ]
  },
  {
   "cell_type": "markdown",
   "metadata": {},
   "source": [
    "#### Observations \n",
    "\n",
    "The performance of our initial model is satisfactorry and has generalised well, seeming to predict well when tested against new audio data. "
   ]
  },
  {
   "cell_type": "markdown",
   "metadata": {},
   "source": [
    "### *In the next notebook we will refine our model*"
   ]
  }
 ],
 "metadata": {
  "kernelspec": {
   "display_name": "Python 3 (ipykernel)",
   "language": "python",
   "name": "python3"
  },
  "language_info": {
   "codemirror_mode": {
    "name": "ipython",
    "version": 3
   },
   "file_extension": ".py",
   "mimetype": "text/x-python",
   "name": "python",
   "nbconvert_exporter": "python",
   "pygments_lexer": "ipython3",
   "version": "3.11.5"
  }
 },
 "nbformat": 4,
 "nbformat_minor": 4
}
